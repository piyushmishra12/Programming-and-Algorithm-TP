{
 "cells": [
  {
   "cell_type": "code",
   "execution_count": 1,
   "id": "8dc2974f",
   "metadata": {},
   "outputs": [],
   "source": [
    "import numpy as np\n",
    "import matplotlib.pyplot as plt"
   ]
  },
  {
   "cell_type": "code",
   "execution_count": 2,
   "id": "367fafb4",
   "metadata": {},
   "outputs": [
    {
     "name": "stdout",
     "output_type": "stream",
     "text": [
      "00000000000000000000000000000000\n",
      "00000000000000000000000000000000\n",
      "00001000000000000000000000000000\n",
      "00000100000000000000111000000000\n",
      "00011100000000000001110000000000\n",
      "00000000000000000000000000000000\n",
      "00000000000000000000000000010000\n",
      "00000000000000000000000000010000\n",
      "00000000000000000000000000010000\n",
      "00000000000000000000000000000000\n",
      "00000000000000000000000000000000\n",
      "00000000000000000000000011100000\n",
      "00000000000000000000000000000000\n",
      "00000000000000000000000000000000\n",
      "00000000000000000000000000000000\n",
      "00000000000000000000000000000000\n",
      "00000000000000000000000000000000\n",
      "00000000000000000000000000000000\n",
      "00110000000000000000000000000000\n",
      "00110000000000000000000000000000\n",
      "00001100000000000000000000000000\n",
      "00001100000000000000000000000000\n",
      "00000000000000000000000000000000\n",
      "00000000000000000000000000000000\n",
      "00000000000000000000000000000000\n",
      "00000000000000000000000000000000\n",
      "00000000000000000000000000000000\n",
      "00011000000000000000000000000000\n",
      "00100100000000000000000000000000\n",
      "00010100000000000000000000000000\n",
      "00001000000000000000000000000000\n",
      "00000000000000000000000000000000\n"
     ]
    }
   ],
   "source": [
    "DEFAULT_INPUT = \"input.txt\"\n",
    "input_ = open(DEFAULT_INPUT, \"r\")\n",
    "data = input_.read()\n",
    "print(data)"
   ]
  },
  {
   "cell_type": "code",
   "execution_count": 3,
   "id": "8986afe7",
   "metadata": {},
   "outputs": [
    {
     "name": "stdout",
     "output_type": "stream",
     "text": [
      "00000000000000000000000000000000\n"
     ]
    }
   ],
   "source": [
    "data_splitted = data.split()\n",
    "print(data_splitted[0]) "
   ]
  },
  {
   "cell_type": "code",
   "execution_count": 4,
   "id": "a04bdc73",
   "metadata": {
    "scrolled": true
   },
   "outputs": [],
   "source": [
    "matrix = []\n",
    "for line in data_splitted:\n",
    "    matrix.append(list(map(int, line)))"
   ]
  },
  {
   "cell_type": "code",
   "execution_count": 5,
   "id": "fc2af2eb",
   "metadata": {},
   "outputs": [],
   "source": [
    "import numpy as np\n",
    "np.set_printoptions(threshold=np.inf)\n",
    "matrix = np.array(matrix)"
   ]
  },
  {
   "cell_type": "code",
   "execution_count": 6,
   "id": "ee75e7c7",
   "metadata": {},
   "outputs": [
    {
     "data": {
      "text/plain": [
       "<matplotlib.image.AxesImage at 0x7fe98f4e1c10>"
      ]
     },
     "execution_count": 6,
     "metadata": {},
     "output_type": "execute_result"
    },
    {
     "data": {
      "image/png": "[encoded data removed]",
      "text/plain": [
       "<Figure size 432x288 with 1 Axes>"
      ]
     },
     "metadata": {
      "needs_background": "light"
     },
     "output_type": "display_data"
    }
   ],
   "source": [
    "def initialise(x, y):\n",
    "    cells = np.zeros((x, y))\n",
    "    cells[0:matrix.shape[0], 0:matrix.shape[1]] = matrix\n",
    "    return cells\n",
    "\n",
    "cells = initialise(32, 32)\n",
    "plt.imshow(cells)"
   ]
  },
  {
   "cell_type": "markdown",
   "id": "59c3b300",
   "metadata": {},
   "source": [
    "1. fewer than 2 living neighbouring cells -> dead\n",
    "2. 2 or three living neighbours -> alive\n",
    "3. more than 3 living cells -> dead\n",
    "4. dead cell with exactly 3 living neighbours -> alive"
   ]
  },
  {
   "cell_type": "code",
   "execution_count": 7,
   "id": "c3c7d44c",
   "metadata": {},
   "outputs": [
    {
     "data": {
      "text/plain": [
       "<matplotlib.image.AxesImage at 0x7fe98f68a610>"
      ]
     },
     "execution_count": 7,
     "metadata": {},
     "output_type": "execute_result"
    },
    {
     "data": {
      "image/png": "[encoded data removed]",
      "text/plain": [
       "<Figure size 432x288 with 1 Axes>"
      ]
     },
     "metadata": {
      "needs_background": "light"
     },
     "output_type": "display_data"
    }
   ],
   "source": [
    "def update(current_matrix):\n",
    "    next_matrix = np.zeros((current_matrix.shape[0], current_matrix.shape[1]))\n",
    "    for i, j in np.ndindex(current_matrix.shape):\n",
    "        alive = np.sum(current_matrix[i-1:i+2, j-1:j+2]) - current_matrix[i, j]\n",
    "        \n",
    "        if current_matrix[i, j] == 1 and (alive < 2 or alive > 3):\n",
    "            next_matrix[i, j] = 0\n",
    "        elif (current_matrix[i, j] == 1 and (alive == 2 or alive == 3)) or (current_matrix[i, j] == 0 and alive == 3):\n",
    "            next_matrix[i, j] = 1\n",
    "        \n",
    "    return next_matrix\n",
    "\n",
    "next_gen = update(cells)\n",
    "plt.imshow(next_gen)"
   ]
  },
  {
   "cell_type": "code",
   "execution_count": 8,
   "id": "08da3a93",
   "metadata": {},
   "outputs": [],
   "source": [
    "def main():\n",
    "    cells = initialise(32, 32)\n",
    "    for i in range(5, 0, -1):\n",
    "        next_gen = update(cells)\n",
    "        plt.imshow(next_gen)\n",
    "        plt.show()\n",
    "        cells = next_gen"
   ]
  },
  {
   "cell_type": "code",
   "execution_count": 9,
   "id": "9da7feed",
   "metadata": {},
   "outputs": [
    {
     "data": {
      "image/png": "[encoded data removed]",
      "text/plain": [
       "<Figure size 432x288 with 1 Axes>"
      ]
     },
     "metadata": {
      "needs_background": "light"
     },
     "output_type": "display_data"
    },
    {
     "data": {
      "image/png": "[encoded data removed]",
      "text/plain": [
       "<Figure size 432x288 with 1 Axes>"
      ]
     },
     "metadata": {
      "needs_background": "light"
     },
     "output_type": "display_data"
    },
    {
     "data": {
      "image/png": "[encoded data removed]",
      "text/plain": [
       "<Figure size 432x288 with 1 Axes>"
      ]
     },
     "metadata": {
      "needs_background": "light"
     },
     "output_type": "display_data"
    },
    {
     "data": {
      "image/png": "[encoded data removed]",
      "text/plain": [
       "<Figure size 432x288 with 1 Axes>"
      ]
     },
     "metadata": {
      "needs_background": "light"
     },
     "output_type": "display_data"
    },
    {
     "data": {
      "image/png": "[encoded data removed]",
      "text/plain": [
       "<Figure size 432x288 with 1 Axes>"
      ]
     },
     "metadata": {
      "needs_background": "light"
     },
     "output_type": "display_data"
    }
   ],
   "source": [
    "main()"
   ]
  },
  {
   "cell_type": "code",
   "execution_count": null,
   "id": "7ab54cb5",
   "metadata": {},
   "outputs": [],
   "source": []
  }
 ],
 "metadata": {
  "kernelspec": {
   "display_name": "Python 3",
   "language": "python",
   "name": "python3"
  },
  "language_info": {
   "codemirror_mode": {
    "name": "ipython",
    "version": 3
   },
   "file_extension": ".py",
   "mimetype": "text/x-python",
   "name": "python",
   "nbconvert_exporter": "python",
   "pygments_lexer": "ipython3",
   "version": "3.8.8"
  }
 },
 "nbformat": 4,
 "nbformat_minor": 5
}
