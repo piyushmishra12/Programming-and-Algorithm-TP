{
 "cells": [
  {
   "cell_type": "code",
   "execution_count": 1,
   "id": "b26a0034",
   "metadata": {},
   "outputs": [
    {
     "name": "stdout",
     "output_type": "stream",
     "text": [
      "pygame 2.0.1 (SDL 2.0.14, Python 3.8.8)\n",
      "Hello from the pygame community. https://www.pygame.org/contribute.html\n"
     ]
    }
   ],
   "source": [
    "import numpy as np\n",
    "import pygame"
   ]
  },
  {
   "cell_type": "code",
   "execution_count": 2,
   "id": "7b4ae4ab",
   "metadata": {},
   "outputs": [],
   "source": [
    "DEFAULT_INPUT = \"input.txt\"\n",
    "input_ = open(DEFAULT_INPUT, \"r\")\n",
    "data = input_.read()\n",
    "\n",
    "data_splitted = data.split()\n",
    "\n",
    "matrix = []\n",
    "for line in data_splitted:\n",
    "    matrix.append(list(map(int, line)))\n",
    "\n",
    "matrix = np.array(matrix)"
   ]
  },
  {
   "cell_type": "code",
   "execution_count": 13,
   "id": "26424908",
   "metadata": {},
   "outputs": [],
   "source": [
    "def initialise(x, y, matrix):\n",
    "    response = input(\"Random?\")\n",
    "    if response == \"y\" or response == \"Y\" or response == \"yes\" or response == \"Yes\":\n",
    "        cells = np.random.randint(2, size=(32, 32))\n",
    "    else:\n",
    "        cells = np.zeros((x, y))\n",
    "        cells[0:matrix.shape[0], 0:matrix.shape[1]] = matrix\n",
    "    return cells"
   ]
  },
  {
   "cell_type": "code",
   "execution_count": 14,
   "id": "c25fa636",
   "metadata": {},
   "outputs": [],
   "source": [
    "dead_col = (0, 0, 0)\n",
    "alive_col = (255, 255, 255)\n",
    "\n",
    "def update(current_matrix, surface, cellsize):\n",
    "    next_gen = np.zeros((current_matrix.shape[0], current_matrix.shape[1]))\n",
    "\n",
    "    for i, j in np.ndindex(current_matrix.shape):\n",
    "        alive = np.sum(current_matrix[i-1:i+2, j-1:j+2]) - current_matrix[i, j]\n",
    "\n",
    "        if current_matrix[i, j] == 1 and (alive < 2 or alive > 3):\n",
    "            next_gen[i, j] = 0\n",
    "            colour = alive_col\n",
    "        elif (current_matrix[i, j] == 1 and 2 <= alive <= 3) or (current_matrix[i, j] == 0 and alive == 3):\n",
    "            next_gen[i, j] = 1\n",
    "            colour = alive_col\n",
    "\n",
    "        colour = colour if current_matrix[i, j] == 1 else (0,0,0)\n",
    "        pygame.draw.rect(surface, colour, (i*cellsize, j*cellsize, cellsize-1, cellsize-1))\n",
    "\n",
    "    return next_gen"
   ]
  },
  {
   "cell_type": "code",
   "execution_count": null,
   "id": "67b93976",
   "metadata": {},
   "outputs": [],
   "source": [
    "def main(x, y, cellsize=16):\n",
    "    pygame.init()\n",
    "    surface = pygame.display.set_mode((x * cellsize, y * cellsize))\n",
    "    \n",
    "    cells = initialise(x, y, matrix)\n",
    "    \n",
    "    clock=pygame.time.Clock()\n",
    "    while True:\n",
    "        clock.tick(10)\n",
    "        for event in pygame.event.get():\n",
    "            if event.type == pygame.QUIT:\n",
    "                pygame.quit()\n",
    "                return\n",
    "\n",
    "        surface.fill((0, 0, 0))\n",
    "        cells = update(cells, surface, cellsize)\n",
    "        pygame.display.update()\n",
    "\n",
    "if __name__ == \"__main__\":\n",
    "    main(32, 32)"
   ]
  },
  {
   "cell_type": "code",
   "execution_count": null,
   "id": "fbffea27",
   "metadata": {},
   "outputs": [],
   "source": []
  }
 ],
 "metadata": {
  "kernelspec": {
   "display_name": "Python 3",
   "language": "python",
   "name": "python3"
  },
  "language_info": {
   "codemirror_mode": {
    "name": "ipython",
    "version": 3
   },
   "file_extension": ".py",
   "mimetype": "text/x-python",
   "name": "python",
   "nbconvert_exporter": "python",
   "pygments_lexer": "ipython3",
   "version": "3.8.8"
  }
 },
 "nbformat": 4,
 "nbformat_minor": 5
}
