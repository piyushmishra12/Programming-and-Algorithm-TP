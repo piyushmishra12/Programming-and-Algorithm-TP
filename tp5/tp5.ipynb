{
 "cells": [
  {
   "cell_type": "code",
   "execution_count": 2,
   "id": "0dc4f812",
   "metadata": {},
   "outputs": [],
   "source": [
    "DNA_samples = ['ACCATACCTTCGATTGTCGTGGCCACCCTCGGATTACACGGCAGAGGTGC',\n",
    "                'GTTGTGTTCCGATAGGCCAGCATATTATCCTAAGGCGTTACCCCAATCGA',\n",
    "                'TTTTCCGTCGGATTTGCTATAGCCCCTGAACGCTACATGCACGAAACCAC',\n",
    "                'AGTTATGTATGCACGTCATCAATAGGACATAGCCTTGTAGTTAACAG',\n",
    "                'TGTAGCCCGGCCGTACAGTAGAGCCTTCACCGGCATTCTGTTTG',\n",
    "                'ATTAAGTTATTTCTATTACAGCAAAACGATCATATGCAGATCCGCAGTGCGCT',\n",
    "                'GGTAGAGACACGTCCACCTAAAAAAGTGA',\n",
    "                'ATGATTATCATGAGTGCCCGGCTGCTCTGTAATAGGGACCCGTTATGGTCGTGTTCGATCAGAGCGCTCTA',\n",
    "                'TACGAGCAGTCGTATGCTTTCTCGAATTCCGTGCGGTTAAGCGTGACAGA',\n",
    "                'TCCCAGTGCACAAAACGTGATGGCAGTCCATGCGATCATACGCAAT',\n",
    "                'GGTCTCCAGACACCGGCGCACCAGTTTTCACGCCGAAAGCATC',\n",
    "                'AGAAGGATAACGAGGAGCACAAATGAGAGTGTTTGAACTGGACCTGTAGTTTCTCTG',\n",
    "                'ACGAAGAAACCCACCTTGAGCTGTTGCGTTGTTGCGCTGCCTAGATGCAGTGG',\n",
    "                'TAACTGCGCCAAAACGTCTTCCAATCCCCTTATCCAATTTAACTCACCGC',\n",
    "                'AATTCTTACAATTTAGACCCTAATATCACATCATTAGACACTAATTGCCT',\n",
    "                'TCTGCCAAAATTCTGTCCACAAGCGTTTTAGTTCGCCCCAGTAAAGTTGT',\n",
    "                'TCAATAACGACCACCAAATCCGCATGTTACGGGACTTCTTATTAATTCTA',\n",
    "                'TTTTTCGTGGGGAGCAGCGGATCTTAATGGATGGCGCCAGGTGGTATGGA']"
   ]
  },
  {
   "cell_type": "markdown",
   "id": "0bb28db8",
   "metadata": {},
   "source": [
    "# Hamming Distance"
   ]
  },
  {
   "cell_type": "code",
   "execution_count": 10,
   "id": "463102f7",
   "metadata": {},
   "outputs": [
    {
     "data": {
      "text/plain": [
       "42"
      ]
     },
     "execution_count": 10,
     "metadata": {},
     "output_type": "execute_result"
    }
   ],
   "source": [
    "def hamming_distance(s1, s2):\n",
    "    i = 0\n",
    "    count = 0\n",
    " \n",
    "    while(i < len(s1)):\n",
    "        if(s1[i] != s2[i]):\n",
    "            count += 1\n",
    "        i += 1\n",
    "    return count\n",
    "\n",
    "hamming_distance(DNA_samples[0], DNA_samples[1])"
   ]
  },
  {
   "cell_type": "markdown",
   "id": "dbf9d6eb",
   "metadata": {},
   "source": [
    "We get 42 as given in the question. This takes $O(n)$ time."
   ]
  },
  {
   "cell_type": "markdown",
   "id": "a138048e",
   "metadata": {},
   "source": [
    "# Levenshtein Distance"
   ]
  },
  {
   "cell_type": "code",
   "execution_count": 13,
   "id": "14940e00",
   "metadata": {},
   "outputs": [
    {
     "data": {
      "text/plain": [
       "7"
      ]
     },
     "execution_count": 13,
     "metadata": {},
     "output_type": "execute_result"
    }
   ],
   "source": [
    "def levenshtein_distance(s1, s2):\n",
    "    m = len(s1)\n",
    "    n = len(s2)\n",
    "    \n",
    "    M = [[0 for _ in range(n+1)] for _ in range(m+1)]\n",
    "    for i in range(m+1):\n",
    "        for j in range(n+1):\n",
    "            if i == 0:\n",
    "                M[i][j] = j\n",
    "            elif j == 0:\n",
    "                M[i][j] = i\n",
    "            elif s1[i-1] == s2[j-1]:\n",
    "                M[i][j] = M[i-1][j-1]\n",
    "            else:\n",
    "                M[i][j] = 1 + min(M[i-1][j], M[i][j-1], M[i-1][j-1])\n",
    "    return M[m][n]\n",
    "\n",
    "levenshtein_distance(\"python\", \"kryptonite\")"
   ]
  },
  {
   "cell_type": "code",
   "execution_count": 14,
   "id": "bb801fb3",
   "metadata": {},
   "outputs": [
    {
     "data": {
      "text/plain": [
       "31"
      ]
     },
     "execution_count": 14,
     "metadata": {},
     "output_type": "execute_result"
    }
   ],
   "source": [
    "levenshtein_distance(DNA_samples[0], DNA_samples[1])"
   ]
  },
  {
   "cell_type": "code",
   "execution_count": 25,
   "id": "a0a5581d",
   "metadata": {},
   "outputs": [],
   "source": [
    "distance_matrix = []\n",
    "for dna1 in DNA_samples:\n",
    "    distances = []\n",
    "    for dna2 in DNA_samples:\n",
    "        distances.append(levenshtein_distance(dna1, dna2))\n",
    "    distance_matrix.append(distances)"
   ]
  },
  {
   "cell_type": "code",
   "execution_count": 26,
   "id": "7bd3a8a9",
   "metadata": {},
   "outputs": [
    {
     "data": {
      "text/plain": [
       "[[0, 31, 27, 31, 29, 29, 29, 38, 28, 27, 27, 36, 30, 31, 28, 28, 33, 32],\n",
       " [31, 0, 27, 26, 28, 26, 29, 38, 30, 29, 25, 34, 34, 28, 27, 32, 30, 26],\n",
       " [27, 27, 0, 28, 28, 27, 31, 37, 28, 27, 26, 36, 34, 27, 28, 30, 31, 28],\n",
       " [31, 26, 28, 0, 25, 25, 26, 35, 26, 28, 28, 29, 30, 26, 28, 31, 28, 27],\n",
       " [29, 28, 28, 25, 0, 30, 26, 40, 29, 27, 25, 28, 28, 31, 31, 28, 28, 28],\n",
       " [29, 26, 27, 25, 30, 0, 34, 38, 30, 29, 31, 29, 31, 32, 25, 29, 30, 31],\n",
       " [29, 29, 31, 26, 26, 34, 0, 48, 30, 27, 22, 37, 32, 30, 30, 30, 30, 32],\n",
       " [38, 38, 37, 35, 40, 38, 48, 0, 38, 39, 39, 36, 38, 40, 39, 41, 38, 35],\n",
       " [28, 30, 28, 26, 29, 30, 30, 38, 0, 26, 30, 34, 30, 27, 32, 31, 31, 28],\n",
       " [27, 29, 27, 28, 27, 29, 27, 39, 26, 0, 25, 33, 27, 24, 29, 28, 28, 29],\n",
       " [27, 25, 26, 28, 25, 31, 22, 39, 30, 25, 0, 32, 27, 29, 29, 25, 30, 28],\n",
       " [36, 34, 36, 29, 28, 29, 37, 36, 34, 33, 32, 0, 29, 34, 31, 32, 25, 34],\n",
       " [30, 34, 34, 30, 28, 31, 32, 38, 30, 27, 27, 29, 0, 33, 33, 27, 29, 30],\n",
       " [31, 28, 27, 26, 31, 32, 30, 40, 27, 24, 29, 34, 33, 0, 28, 27, 29, 33],\n",
       " [28, 27, 28, 28, 31, 25, 30, 39, 32, 29, 29, 31, 33, 28, 0, 28, 28, 31],\n",
       " [28, 32, 30, 31, 28, 29, 30, 41, 31, 28, 25, 32, 27, 27, 28, 0, 29, 30],\n",
       " [33, 30, 31, 28, 28, 30, 30, 38, 31, 28, 30, 25, 29, 29, 28, 29, 0, 31],\n",
       " [32, 26, 28, 27, 28, 31, 32, 35, 28, 29, 28, 34, 30, 33, 31, 30, 31, 0]]"
      ]
     },
     "execution_count": 26,
     "metadata": {},
     "output_type": "execute_result"
    }
   ],
   "source": [
    "distance_matrix"
   ]
  },
  {
   "cell_type": "markdown",
   "id": "651007c5",
   "metadata": {},
   "source": [
    "For each Levenshtein distance computation, it takes $O(mn)$ time."
   ]
  },
  {
   "cell_type": "code",
   "execution_count": 28,
   "id": "2782d6d4",
   "metadata": {},
   "outputs": [],
   "source": [
    "file = open(\"distance_matrix.txt\", \"w\")\n",
    "file.write(str(distance_matrix))\n",
    "file.close()"
   ]
  },
  {
   "cell_type": "markdown",
   "id": "16f94e26",
   "metadata": {},
   "source": [
    "# Sequence Alignment"
   ]
  },
  {
   "cell_type": "code",
   "execution_count": 21,
   "id": "99a34daf",
   "metadata": {},
   "outputs": [
    {
     "name": "stdout",
     "output_type": "stream",
     "text": [
      "AGTA\n"
     ]
    },
    {
     "data": {
      "text/plain": [
       "[[0, 0, 0, 0, 0, 0],\n",
       " [0, 1, 1, 1, 1, 1],\n",
       " [0, 1, 2, 2, 2, 2],\n",
       " [0, 1, 2, 2, 2, 2],\n",
       " [0, 1, 2, 2, 3, 3],\n",
       " [0, 1, 2, 2, 3, 4]]"
      ]
     },
     "execution_count": 21,
     "metadata": {},
     "output_type": "execute_result"
    }
   ],
   "source": [
    "def longest_common_subsequence(s1, s2):\n",
    "    m = len(s1)\n",
    "    n = len(s2)\n",
    "    M = [[0 for x in range(n+1)] for x in range(m+1)]\n",
    "    for i in range(m+1):\n",
    "        for j in range(n+1):\n",
    "            if i == 0 or j == 0:\n",
    "                M[i][j] = 0\n",
    "            elif s1[i-1] == s2[j-1]:\n",
    "                M[i][j] = M[i-1][j-1] + 1\n",
    "            else:\n",
    "                M[i][j] = max(M[i-1][j], M[i][j-1])\n",
    "  \n",
    "    idx = M[m][n]\n",
    "    lcs = [\"\"]*(idx+1)\n",
    "    lcs[idx] = \"\"\n",
    "\n",
    "    i, j = m, n\n",
    "    while i > 0 and j > 0:\n",
    "        if s1[i-1] == s2[j-1]:\n",
    "            lcs[idx-1] = s1[i-1]\n",
    "            i-=1\n",
    "            j-=1\n",
    "            idx-=1\n",
    "        elif M[i-1][j] > M[i][j-1]:\n",
    "            i-=1\n",
    "        else:\n",
    "            j-=1\n",
    "    print(\"\".join(lcs))\n",
    "    return M\n",
    "    \n",
    "s1 = \"AGGTA\"\n",
    "s2 = \"AGCTA\"\n",
    "longest_common_subsequence(s1, s2)"
   ]
  },
  {
   "cell_type": "markdown",
   "id": "983f039d",
   "metadata": {},
   "source": [
    "It takes $O(mn)$ time."
   ]
  },
  {
   "cell_type": "markdown",
   "id": "b081bbc7",
   "metadata": {},
   "source": [
    "## Local Alignment"
   ]
  },
  {
   "cell_type": "markdown",
   "id": "b40f1ad3",
   "metadata": {},
   "source": [
    "Referred from [nornagon](https://gist.github.com/nornagon/6326a643fc30339ece3021013ed9b48c)'s and [mjoh223](https://github.com/mjoh223/BMI203_HW3)'s gist."
   ]
  },
  {
   "cell_type": "code",
   "execution_count": 4,
   "id": "d90d159d",
   "metadata": {},
   "outputs": [],
   "source": [
    "import numpy as np\n",
    "import itertools\n",
    "\n",
    "def make_H(a, b, match_score=2, gap_cost=1):\n",
    "    H = np.zeros((len(a) + 1, len(b) + 1), int)\n",
    "    for i, j in itertools.product(range(1, H.shape[0]), range(1, H.shape[1])):\n",
    "        match = H[i - 1, j - 1] + (match_score if a[i - 1] == b[j - 1] else - match_score)\n",
    "        delete = H[i - 1, j] - gap_cost\n",
    "        insert = H[i, j - 1] - gap_cost\n",
    "        H[i, j] = max(match, delete, insert, 0)\n",
    "    return H\n",
    "\n",
    "def traceback(H, b, b_='', old_i=0):\n",
    "    H_flip = np.flip(np.flip(H, 0), 1)\n",
    "    i_, j_ = np.unravel_index(H_flip.argmax(), H_flip.shape)\n",
    "    i, j = np.subtract(H.shape, (i_ + 1, j_ + 1))\n",
    "    if H[i, j] == 0:\n",
    "        return b_, j\n",
    "    b_ = b[j - 1] + '-' + b_ if old_i - i > 1 else b[j - 1] + b_\n",
    "    \n",
    "    return traceback(H[0:i, 0:j], b, b_, i)\n",
    "\n",
    "def smith_waterman(a, b, match_score=3, gap_cost=2):\n",
    "    H = make_H(a, b, match_score, gap_cost)\n",
    "    b_, pos = traceback(H, b)\n",
    "    return pos, pos + len(b_)"
   ]
  },
  {
   "cell_type": "code",
   "execution_count": 5,
   "id": "aa47a604",
   "metadata": {},
   "outputs": [
    {
     "name": "stdout",
     "output_type": "stream",
     "text": [
      "AC-TA\n",
      "ACATA\n"
     ]
    }
   ],
   "source": [
    "a, b = 'GACATAT', 'ACTAGAG'\n",
    "start, end = smith_waterman(a, b)\n",
    "H = make_H(a, b)\n",
    "print(traceback(H, b)[0])\n",
    "print(a[start+1:end+1])"
   ]
  },
  {
   "cell_type": "markdown",
   "id": "94b124dd",
   "metadata": {},
   "source": [
    "Preparing the code to make the matrix by myself:"
   ]
  },
  {
   "cell_type": "code",
   "execution_count": 3,
   "id": "3302364d",
   "metadata": {},
   "outputs": [
    {
     "data": {
      "text/plain": [
       "array([[0, 0, 0, 0, 0, 0, 0, 0],\n",
       "       [0, 0, 2, 1, 2, 1, 2, 1],\n",
       "       [0, 0, 1, 4, 3, 2, 1, 0],\n",
       "       [0, 0, 0, 3, 2, 5, 4, 3],\n",
       "       [0, 0, 2, 2, 5, 4, 7, 6],\n",
       "       [0, 2, 1, 1, 4, 3, 6, 5],\n",
       "       [0, 1, 4, 3, 3, 2, 5, 4],\n",
       "       [0, 2, 3, 2, 2, 1, 4, 3]])"
      ]
     },
     "execution_count": 3,
     "metadata": {},
     "output_type": "execute_result"
    }
   ],
   "source": [
    "def D(a, b):\n",
    "    return 2 if a == b else -2\n",
    "\n",
    "def make_matrix(a, b):\n",
    "    delta = -1\n",
    "    m = len(a)\n",
    "    n = len(b)\n",
    "    M = [[0 for _ in range(n+1)] for _ in range(m+1)]\n",
    "    for i in range(m+1):\n",
    "        for j in range(n+1):\n",
    "            if i == 0 or j == 0:\n",
    "                M[i][j] = 0\n",
    "            else:\n",
    "                M[i][j] = max(0,\n",
    "                             M[i-1][j-1] + D(a[i-1], b[j-1]),\n",
    "                             M[i-1][j] + delta,\n",
    "                             M[i][j-1] + delta)\n",
    "    M = np.array(M)\n",
    "    return M\n",
    "\n",
    "M = make_matrix(\"GACATAT\", \"ACTAGAG\")\n",
    "M.T"
   ]
  },
  {
   "cell_type": "code",
   "execution_count": 13,
   "id": "608f699b",
   "metadata": {},
   "outputs": [
    {
     "name": "stdout",
     "output_type": "stream",
     "text": [
      "AC-TA\n",
      "ACATA\n"
     ]
    }
   ],
   "source": [
    "a, b = \"ACATA\", \"ACGTA\"\n",
    "M = make_matrix(a, b)\n",
    "print(traceback(M, b)[0])\n",
    "print(a[traceback(M,b)[1]: traceback(M,b)[1]+len(traceback(M,b)[0])+1])"
   ]
  },
  {
   "cell_type": "markdown",
   "id": "b8eeaa53",
   "metadata": {},
   "source": [
    "## Needlemann Wunsch Algorithm"
   ]
  },
  {
   "cell_type": "markdown",
   "id": "6b0fc891",
   "metadata": {},
   "source": [
    "Based on the example given in Wikipedia"
   ]
  },
  {
   "cell_type": "code",
   "execution_count": 37,
   "id": "e36bdad3",
   "metadata": {},
   "outputs": [],
   "source": [
    "def D(a, b):\n",
    "    return 1 if a == b else -1\n",
    "\n",
    "def make_matrix(a, b):\n",
    "    delta = -1\n",
    "    m = len(a)\n",
    "    n = len(b)\n",
    "    M = [[0 for _ in range(n+1)] for _ in range(m+1)]\n",
    "    for i in range(m+1):\n",
    "        for j in range(n+1):\n",
    "            M[0][0] = 0\n",
    "            M[i][0] = M[i-1][0] + delta\n",
    "            M[0][j] = M[0][j-1] + delta\n",
    "            if i != 0 and j != 0:\n",
    "                M[i][j] = max(M[i-1][j-1] + D(a[i-1], b[j-1]),\n",
    "                             M[i-1][j] + delta,\n",
    "                             M[i][j-1] + delta)\n",
    "    M = np.array(M)\n",
    "    return M.T\n",
    "\n",
    "M = make_matrix(\"GCATGCG\", \"GATTACA\")"
   ]
  },
  {
   "cell_type": "code",
   "execution_count": 38,
   "id": "f377d187",
   "metadata": {},
   "outputs": [
    {
     "data": {
      "text/plain": [
       "array([[ 0, -1, -2, -3, -4, -5, -6, -7],\n",
       "       [-1,  1,  0, -1, -2, -3, -4, -5],\n",
       "       [-2,  0,  0,  1,  0, -1, -2, -3],\n",
       "       [-3, -1, -1,  0,  2,  1,  0, -1],\n",
       "       [-4, -2, -2, -1,  1,  1,  0, -1],\n",
       "       [-5, -3, -3, -1,  0,  0,  0, -1],\n",
       "       [-6, -4, -2, -2, -1, -1,  1,  0],\n",
       "       [-7, -5, -3, -1, -2, -2,  0,  0]])"
      ]
     },
     "execution_count": 38,
     "metadata": {},
     "output_type": "execute_result"
    }
   ],
   "source": [
    "M"
   ]
  },
  {
   "cell_type": "markdown",
   "id": "794df796",
   "metadata": {},
   "source": [
    "This is the same matrix as in the Wikipedia example, which means that it works."
   ]
  }
 ],
 "metadata": {
  "kernelspec": {
   "display_name": "Python 3",
   "language": "python",
   "name": "python3"
  },
  "language_info": {
   "codemirror_mode": {
    "name": "ipython",
    "version": 3
   },
   "file_extension": ".py",
   "mimetype": "text/x-python",
   "name": "python",
   "nbconvert_exporter": "python",
   "pygments_lexer": "ipython3",
   "version": "3.8.8"
  }
 },
 "nbformat": 4,
 "nbformat_minor": 5
}
