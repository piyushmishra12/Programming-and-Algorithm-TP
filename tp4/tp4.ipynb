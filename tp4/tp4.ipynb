{
 "cells": [
  {
   "cell_type": "markdown",
   "id": "bb0f1615",
   "metadata": {},
   "source": [
    "## Bubble Sort"
   ]
  },
  {
   "cell_type": "code",
   "execution_count": 1,
   "id": "6d67ed7e",
   "metadata": {},
   "outputs": [
    {
     "data": {
      "text/plain": [
       "[2, 3, 4, 5, 7]"
      ]
     },
     "execution_count": 1,
     "metadata": {},
     "output_type": "execute_result"
    }
   ],
   "source": [
    "def bubble_sort(arr):\n",
    "    n = len(arr)\n",
    "    for i in range(n):\n",
    "        for j in range (n-i-1):\n",
    "            if arr[j] > arr[j+1]:\n",
    "                arr[j], arr[j+1] = arr[j+1], arr[j]\n",
    "    return arr\n",
    "\n",
    "bubble_sort([7, 4, 5, 2, 3])"
   ]
  },
  {
   "cell_type": "markdown",
   "id": "9f3c45cc",
   "metadata": {},
   "source": [
    "## Heap Sort"
   ]
  },
  {
   "cell_type": "code",
   "execution_count": 2,
   "id": "f89c9fb3",
   "metadata": {},
   "outputs": [
    {
     "data": {
      "text/plain": [
       "[2, 3, 4, 5, 7]"
      ]
     },
     "execution_count": 2,
     "metadata": {},
     "output_type": "execute_result"
    }
   ],
   "source": [
    "def max_heapify(arr, i, n):\n",
    "    l = 2*i + 1 # left child\n",
    "    r = 2*i + 2 # right child\n",
    "    if l < n and arr[l] > arr[i]:\n",
    "        largest = l\n",
    "    else:\n",
    "        largest = i\n",
    "    if r < n and arr[r] > arr[largest]:\n",
    "        largest = r\n",
    "    if largest != i:\n",
    "        arr[largest], arr[i] = arr[i], arr[largest]\n",
    "        max_heapify(arr, largest, n)\n",
    "        \n",
    "def build_heap(arr, n):\n",
    "    for i in range(n//2-1, -1, -1):\n",
    "        max_heapify(arr, i, n)\n",
    "\n",
    "def heap_sort(arr):\n",
    "    n = len(arr)\n",
    "    \n",
    "    build_heap(arr, n)\n",
    "    \n",
    "    for i in range(n-1, 0, -1):\n",
    "        arr[i], arr[0] = arr[0], arr[i]\n",
    "        max_heapify(arr, 0, i)\n",
    "    return arr\n",
    "\n",
    "heap_sort([7, 4, 5, 2, 3])"
   ]
  },
  {
   "cell_type": "markdown",
   "id": "76553ec2",
   "metadata": {},
   "source": [
    "Bubble sort takes O(n^2) time (there are two loops ranging in n).\n",
    "\n",
    "Heap sort has two functions:\n",
    "1. max_heapify has to traverse through the binary tree, so it takes O(lgn) time, but it is inside a for loop of linear time O(n).\n",
    "2. build_heap has a simple O(n) time.\n",
    "\n",
    "So, in total, heap_sort has O(n) + O(n)O(lgn) = O(nlgn)\n",
    "\n",
    "Thus, heap sort takes less time."
   ]
  },
  {
   "cell_type": "markdown",
   "id": "2516b681",
   "metadata": {},
   "source": [
    "## Measuring time"
   ]
  },
  {
   "cell_type": "code",
   "execution_count": 3,
   "id": "68837fa5",
   "metadata": {},
   "outputs": [
    {
     "name": "stdout",
     "output_type": "stream",
     "text": [
      "0.1044921875\n",
      "0.004244089126586914\n"
     ]
    }
   ],
   "source": [
    "import time\n",
    "import random\n",
    "\n",
    "arr = [random.randint(1, 1000) for _ in range(1000)]\n",
    "\n",
    "t1 = time.time()\n",
    "bubble_sort(arr)\n",
    "print(time.time() - t1)\n",
    "\n",
    "t2 = time.time()\n",
    "heap_sort(arr)\n",
    "print(time.time() - t2)"
   ]
  },
  {
   "cell_type": "code",
   "execution_count": 4,
   "id": "a8460326",
   "metadata": {},
   "outputs": [],
   "source": [
    "import numpy as np\n",
    "\n",
    "time_bubble_sort = []\n",
    "time_heap_sort = []\n",
    "\n",
    "for l in [3, 4, 5, 6, 7, 8, 9, 10, 11, 12]:\n",
    "    n = 2 ** l\n",
    "    t1 = time.time()\n",
    "    bubble_sort(np.random.randint(100,size=n))\n",
    "    time_bubble_sort.append(time.time() - t1)\n",
    "    \n",
    "    t2 = time.time()\n",
    "    heap_sort(np.random.randint(100,size=n))\n",
    "    time_heap_sort.append(time.time() - t2)\n"
   ]
  },
  {
   "cell_type": "code",
   "execution_count": 5,
   "id": "cf6c3561",
   "metadata": {},
   "outputs": [
    {
     "data": {
      "text/plain": [
       "<matplotlib.legend.Legend at 0x7f9277ce3820>"
      ]
     },
     "execution_count": 5,
     "metadata": {},
     "output_type": "execute_result"
    },
    {
     "data": {
      "image/png": "[encoded data removed]",
      "text/plain": [
       "<Figure size 432x288 with 1 Axes>"
      ]
     },
     "metadata": {
      "needs_background": "light"
     },
     "output_type": "display_data"
    }
   ],
   "source": [
    "import matplotlib.pyplot as plt\n",
    "plt.plot(time_bubble_sort, label=\"Bubble sort\")\n",
    "plt.plot(time_heap_sort, label=\"Heap sort\")\n",
    "plt.legend(loc=\"best\")"
   ]
  },
  {
   "cell_type": "markdown",
   "id": "59c42d0f",
   "metadata": {},
   "source": [
    "## Search in Sorted Array"
   ]
  },
  {
   "cell_type": "code",
   "execution_count": 6,
   "id": "0bd15d97",
   "metadata": {},
   "outputs": [
    {
     "data": {
      "text/plain": [
       "2"
      ]
     },
     "execution_count": 6,
     "metadata": {},
     "output_type": "execute_result"
    }
   ],
   "source": [
    "arr = [1, 2, 3, 4, 5]\n",
    "\n",
    "item = 3\n",
    "\n",
    "def sequential_search(arr, item):\n",
    "    n = len(arr)\n",
    "    for i in range(n):\n",
    "        if arr[i] == item:\n",
    "            return i\n",
    "    return -1\n",
    "\n",
    "sequential_search(arr, item)"
   ]
  },
  {
   "cell_type": "code",
   "execution_count": 7,
   "id": "0f988f99",
   "metadata": {},
   "outputs": [
    {
     "data": {
      "text/plain": [
       "2"
      ]
     },
     "execution_count": 7,
     "metadata": {},
     "output_type": "execute_result"
    }
   ],
   "source": [
    "def dichotomous_search(arr, p, r, item):\n",
    "    if r >= p:\n",
    "        q = int((p + r)//2)\n",
    "        if arr[q] == item:\n",
    "            return q\n",
    "        elif arr[q] > item:\n",
    "            return dichotomous_search(arr, p, q-1, item)\n",
    "        else:\n",
    "            return dichotomous_search(arr, q+1, r, item)\n",
    "    else:\n",
    "        return -1\n",
    "\n",
    "dichotomous_search(arr, 0, len(arr)-1, item)"
   ]
  },
  {
   "cell_type": "markdown",
   "id": "eae9aac0",
   "metadata": {},
   "source": [
    "Dichotomous search is better for sorted arrays since it uses the method of divide and conquer. It takes O(lgn) time as compared to linear time O(n) taken by sequential search."
   ]
  },
  {
   "cell_type": "code",
   "execution_count": 10,
   "id": "f7b53ef0",
   "metadata": {},
   "outputs": [],
   "source": [
    "time_sequential_search = []\n",
    "time_dichotomous_search = []\n",
    "\n",
    "item = random.randint(0,10)\n",
    "\n",
    "for l in [3, 4, 5, 6, 7, 8, 9, 10, 11, 12]:\n",
    "    n = 2 ** l\n",
    "    t1 = time.time()\n",
    "    sequential_search(np.random.randint(10,size=n), item)\n",
    "    time_sequential_search.append(time.time() - t1)\n",
    "    \n",
    "    arr = np.random.randint(10,size=n)\n",
    "    t2 = time.time()\n",
    "    dichotomous_search(arr, 0, len(arr)-1, item)\n",
    "    time_dichotomous_search.append(time.time() - t2)"
   ]
  },
  {
   "cell_type": "code",
   "execution_count": 11,
   "id": "7a57efae",
   "metadata": {},
   "outputs": [
    {
     "data": {
      "text/plain": [
       "<matplotlib.legend.Legend at 0x7f9277ec2f70>"
      ]
     },
     "execution_count": 11,
     "metadata": {},
     "output_type": "execute_result"
    },
    {
     "data": {
      "image/png": "[encoded data removed]",
      "text/plain": [
       "<Figure size 432x288 with 1 Axes>"
      ]
     },
     "metadata": {
      "needs_background": "light"
     },
     "output_type": "display_data"
    }
   ],
   "source": [
    "plt.plot(time_sequential_search, label=\"Sequential search\")\n",
    "plt.plot(time_dichotomous_search, label=\"Dichotomous search\")\n",
    "plt.legend(loc=\"best\")"
   ]
  },
  {
   "cell_type": "code",
   "execution_count": null,
   "id": "d05b8535",
   "metadata": {},
   "outputs": [],
   "source": []
  }
 ],
 "metadata": {
  "kernelspec": {
   "display_name": "Python 3",
   "language": "python",
   "name": "python3"
  },
  "language_info": {
   "codemirror_mode": {
    "name": "ipython",
    "version": 3
   },
   "file_extension": ".py",
   "mimetype": "text/x-python",
   "name": "python",
   "nbconvert_exporter": "python",
   "pygments_lexer": "ipython3",
   "version": "3.8.8"
  }
 },
 "nbformat": 4,
 "nbformat_minor": 5
}
